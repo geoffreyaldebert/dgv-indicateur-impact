{
 "cells": [
  {
   "cell_type": "code",
   "execution_count": 2,
   "id": "dde0548b",
   "metadata": {},
   "outputs": [],
   "source": [
    "import pandas as pd"
   ]
  },
  {
   "cell_type": "code",
   "execution_count": null,
   "id": "500db2e6",
   "metadata": {},
   "outputs": [],
   "source": [
    "df = pd.read_csv(\"\")"
   ]
  },
  {
   "cell_type": "code",
   "execution_count": null,
   "id": "ae8d7f3f",
   "metadata": {},
   "outputs": [],
   "source": []
  },
  {
   "cell_type": "code",
   "execution_count": 4,
   "id": "af927eda",
   "metadata": {},
   "outputs": [],
   "source": [
    "df = pd.read_csv(\"catalog_datasets.csv\", dtype=str, sep=\";\")"
   ]
  },
  {
   "cell_type": "code",
   "execution_count": 8,
   "id": "cfff4f35",
   "metadata": {},
   "outputs": [],
   "source": [
    "df[\"metric.views\"] = df[\"metric.views\"].astype(float)"
   ]
  },
  {
   "cell_type": "code",
   "execution_count": 10,
   "id": "404453f6",
   "metadata": {},
   "outputs": [],
   "source": [
    "df = df.sort_values(by=\"metric.views\", ascending=False)"
   ]
  },
  {
   "cell_type": "code",
   "execution_count": 12,
   "id": "3a9aa1af",
   "metadata": {},
   "outputs": [],
   "source": [
    "dff = df[:1000]"
   ]
  },
  {
   "cell_type": "code",
   "execution_count": 15,
   "id": "6ae6f848",
   "metadata": {},
   "outputs": [
    {
     "name": "stderr",
     "output_type": "stream",
     "text": [
      "/var/folders/cg/b2_z5vjn52x7nyrtvtmwqsqh0000gp/T/ipykernel_14710/3378737279.py:1: SettingWithCopyWarning: \n",
      "A value is trying to be set on a copy of a slice from a DataFrame.\n",
      "Try using .loc[row_indexer,col_indexer] = value instead\n",
      "\n",
      "See the caveats in the documentation: https://pandas.pydata.org/pandas-docs/stable/user_guide/indexing.html#returning-a-view-versus-a-copy\n",
      "  dff[\"quality_score\"] = df[\"quality_score\"].astype(float)\n"
     ]
    }
   ],
   "source": [
    "dff[\"quality_score\"] = df[\"quality_score\"].astype(float)"
   ]
  },
  {
   "cell_type": "code",
   "execution_count": 16,
   "id": "aebe4143",
   "metadata": {},
   "outputs": [
    {
     "data": {
      "text/plain": [
       "0.69062"
      ]
     },
     "execution_count": 16,
     "metadata": {},
     "output_type": "execute_result"
    }
   ],
   "source": [
    "dff[\"quality_score\"].mean()"
   ]
  },
  {
   "cell_type": "code",
   "execution_count": 17,
   "id": "5b2c585a",
   "metadata": {},
   "outputs": [],
   "source": [
    "df = pd.read_csv(\"catalog_discussions.csv\", dtype=str, sep=\";\")"
   ]
  },
  {
   "cell_type": "code",
   "execution_count": 19,
   "id": "a6642461",
   "metadata": {},
   "outputs": [
    {
     "data": {
      "text/plain": [
       "Index(['id', 'user', 'subject', 'title', 'size', 'messages', 'created',\n",
       "       'closed', 'closed_by'],\n",
       "      dtype='object')"
      ]
     },
     "execution_count": 19,
     "metadata": {},
     "output_type": "execute_result"
    }
   ],
   "source": [
    "df.columns"
   ]
  },
  {
   "cell_type": "code",
   "execution_count": 24,
   "id": "c4938845",
   "metadata": {},
   "outputs": [
    {
     "data": {
      "text/plain": [
       "Kisio Digital                289\n",
       "Frédéric ALLARI              214\n",
       "DELETED DELETED              199\n",
       "Karima Mekkaoui              172\n",
       "Christopher Do Nascimento    139\n",
       "                            ... \n",
       "thierry pastre                 1\n",
       "Mariona Segú                   1\n",
       "Abdourahmane KHOUMA            1\n",
       "Nicolas Mougamadou             1\n",
       "Frédéric Hars                  1\n",
       "Name: user, Length: 7308, dtype: int64"
      ]
     },
     "execution_count": 24,
     "metadata": {},
     "output_type": "execute_result"
    }
   ],
   "source": [
    "df[\"user\"].value_counts()"
   ]
  },
  {
   "cell_type": "code",
   "execution_count": 25,
   "id": "8c169d43",
   "metadata": {},
   "outputs": [
    {
     "data": {
      "text/html": [
       "<div>\n",
       "<style scoped>\n",
       "    .dataframe tbody tr th:only-of-type {\n",
       "        vertical-align: middle;\n",
       "    }\n",
       "\n",
       "    .dataframe tbody tr th {\n",
       "        vertical-align: top;\n",
       "    }\n",
       "\n",
       "    .dataframe thead th {\n",
       "        text-align: right;\n",
       "    }\n",
       "</style>\n",
       "<table border=\"1\" class=\"dataframe\">\n",
       "  <thead>\n",
       "    <tr style=\"text-align: right;\">\n",
       "      <th></th>\n",
       "      <th>id</th>\n",
       "      <th>user</th>\n",
       "      <th>subject</th>\n",
       "      <th>title</th>\n",
       "      <th>size</th>\n",
       "      <th>messages</th>\n",
       "      <th>created</th>\n",
       "      <th>closed</th>\n",
       "      <th>closed_by</th>\n",
       "    </tr>\n",
       "  </thead>\n",
       "  <tbody>\n",
       "    <tr>\n",
       "      <th>0</th>\n",
       "      <td>6460fa1fd3e6eb3e2998734a</td>\n",
       "      <td>Christophe SAHUC</td>\n",
       "      <td>Tuto : accéder au débit des fleuves français v...</td>\n",
       "      <td>Collecte de débit à partir d’une station hydro</td>\n",
       "      <td>1</td>\n",
       "      <td>Bonjour,\\nJe suis à la recherche d’un programm...</td>\n",
       "      <td>2023-05-14T17:11:27.131000</td>\n",
       "      <td>NaN</td>\n",
       "      <td>NaN</td>\n",
       "    </tr>\n",
       "    <tr>\n",
       "      <th>1</th>\n",
       "      <td>645f874d7758e57434f78a60</td>\n",
       "      <td>Philippe MAITRALLAIN</td>\n",
       "      <td>Base d'Adresses Nationale Ouverte - BANO</td>\n",
       "      <td>erreur dans l'adresse</td>\n",
       "      <td>2</td>\n",
       "      <td>Bonjour,\\nSur la commune de Chevannes dans l'E...</td>\n",
       "      <td>2023-05-13T14:49:17.097000</td>\n",
       "      <td>NaN</td>\n",
       "      <td>NaN</td>\n",
       "    </tr>\n",
       "    <tr>\n",
       "      <th>2</th>\n",
       "      <td>645ea42804632eafc1b221f6</td>\n",
       "      <td>Clément Romanowski</td>\n",
       "      <td>Offre de transport du réseau de Vannes - Kicéo...</td>\n",
       "      <td>Problème dans calendar.txt</td>\n",
       "      <td>2</td>\n",
       "      <td>Bonjour,\\r\\nLe fichier calendar.txt, qui est c...</td>\n",
       "      <td>2023-05-12T22:40:08.241000</td>\n",
       "      <td>NaN</td>\n",
       "      <td>NaN</td>\n",
       "    </tr>\n",
       "    <tr>\n",
       "      <th>3</th>\n",
       "      <td>645e7fe0fe8893510cdf1f42</td>\n",
       "      <td>Kevin Lo</td>\n",
       "      <td>Base Sirene des entreprises et de leurs établi...</td>\n",
       "      <td>Will the data be removed or stay forever?</td>\n",
       "      <td>1</td>\n",
       "      <td>If a establishment or legal unit is closed, wi...</td>\n",
       "      <td>2023-05-12T20:05:20.702000</td>\n",
       "      <td>NaN</td>\n",
       "      <td>NaN</td>\n",
       "    </tr>\n",
       "    <tr>\n",
       "      <th>4</th>\n",
       "      <td>645e305cd57cf2918391a81d</td>\n",
       "      <td>Cyril LEDRU</td>\n",
       "      <td>Résultats du contrôle sanitaire de l'eau distr...</td>\n",
       "      <td>open data sur les contrôles sanitaires \"piscin...</td>\n",
       "      <td>1</td>\n",
       "      <td>Bonjour,\\nJe souhaiterai utiliser les données ...</td>\n",
       "      <td>2023-05-12T14:26:04.215000</td>\n",
       "      <td>NaN</td>\n",
       "      <td>NaN</td>\n",
       "    </tr>\n",
       "    <tr>\n",
       "      <th>...</th>\n",
       "      <td>...</td>\n",
       "      <td>...</td>\n",
       "      <td>...</td>\n",
       "      <td>...</td>\n",
       "      <td>...</td>\n",
       "      <td>...</td>\n",
       "      <td>...</td>\n",
       "      <td>...</td>\n",
       "      <td>...</td>\n",
       "    </tr>\n",
       "    <tr>\n",
       "      <th>12076</th>\n",
       "      <td>5566b28754b314fff698bbcb</td>\n",
       "      <td>Benoit DAVID</td>\n",
       "      <td>Relief Naturel - données géographiques</td>\n",
       "      <td>site inaccessible</td>\n",
       "      <td>1</td>\n",
       "      <td>site inaccessible</td>\n",
       "      <td>2013-12-19T10:37:45.197000</td>\n",
       "      <td>NaN</td>\n",
       "      <td>NaN</td>\n",
       "    </tr>\n",
       "    <tr>\n",
       "      <th>12077</th>\n",
       "      <td>5566b28754b314fff698bbca</td>\n",
       "      <td>Jean-Christophe MARTI</td>\n",
       "      <td>Base nationale de Gestion ASsistée des Procédu...</td>\n",
       "      <td>Le fichier est annoncé comme un CSV mais je n'...</td>\n",
       "      <td>1</td>\n",
       "      <td>Le fichier est annoncé comme un CSV mais je n'...</td>\n",
       "      <td>2013-12-18T22:40:12.111000</td>\n",
       "      <td>NaN</td>\n",
       "      <td>NaN</td>\n",
       "    </tr>\n",
       "    <tr>\n",
       "      <th>12078</th>\n",
       "      <td>5566b28754b314fff698bbc9</td>\n",
       "      <td>François BELLIN</td>\n",
       "      <td>Plan local de l'urbanisme - PLU</td>\n",
       "      <td>Le lien pour télécharger les données ne foncti...</td>\n",
       "      <td>1</td>\n",
       "      <td>Le lien pour télécharger les données ne foncti...</td>\n",
       "      <td>2013-12-18T22:26:47.529000</td>\n",
       "      <td>NaN</td>\n",
       "      <td>NaN</td>\n",
       "    </tr>\n",
       "    <tr>\n",
       "      <th>12079</th>\n",
       "      <td>5566b28754b314fff698bbc8</td>\n",
       "      <td>Frédéric Hars</td>\n",
       "      <td>La comptabilité nationale</td>\n",
       "      <td>Erreur d'URL sur le document \"Principaux indic...</td>\n",
       "      <td>1</td>\n",
       "      <td>Erreur d'URL sur le document \"Principaux indic...</td>\n",
       "      <td>2013-12-18T18:17:31.356000</td>\n",
       "      <td>NaN</td>\n",
       "      <td>NaN</td>\n",
       "    </tr>\n",
       "    <tr>\n",
       "      <th>12080</th>\n",
       "      <td>5566b28754b314fff698bbd3</td>\n",
       "      <td>Benoit DAVID</td>\n",
       "      <td>Parc naturel régional - PNR</td>\n",
       "      <td>Attention, le lien semble rompu</td>\n",
       "      <td>2</td>\n",
       "      <td>Attention, le lien semble rompu\\nLe lien a été...</td>\n",
       "      <td>2013-12-18T18:01:00.524000</td>\n",
       "      <td>2014-07-02T12:48:44.742000</td>\n",
       "      <td>Romain Tales</td>\n",
       "    </tr>\n",
       "  </tbody>\n",
       "</table>\n",
       "<p>12081 rows × 9 columns</p>\n",
       "</div>"
      ],
      "text/plain": [
       "                             id                   user  \\\n",
       "0      6460fa1fd3e6eb3e2998734a       Christophe SAHUC   \n",
       "1      645f874d7758e57434f78a60   Philippe MAITRALLAIN   \n",
       "2      645ea42804632eafc1b221f6     Clément Romanowski   \n",
       "3      645e7fe0fe8893510cdf1f42               Kevin Lo   \n",
       "4      645e305cd57cf2918391a81d            Cyril LEDRU   \n",
       "...                         ...                    ...   \n",
       "12076  5566b28754b314fff698bbcb           Benoit DAVID   \n",
       "12077  5566b28754b314fff698bbca  Jean-Christophe MARTI   \n",
       "12078  5566b28754b314fff698bbc9        François BELLIN   \n",
       "12079  5566b28754b314fff698bbc8          Frédéric Hars   \n",
       "12080  5566b28754b314fff698bbd3           Benoit DAVID   \n",
       "\n",
       "                                                 subject  \\\n",
       "0      Tuto : accéder au débit des fleuves français v...   \n",
       "1               Base d'Adresses Nationale Ouverte - BANO   \n",
       "2      Offre de transport du réseau de Vannes - Kicéo...   \n",
       "3      Base Sirene des entreprises et de leurs établi...   \n",
       "4      Résultats du contrôle sanitaire de l'eau distr...   \n",
       "...                                                  ...   \n",
       "12076             Relief Naturel - données géographiques   \n",
       "12077  Base nationale de Gestion ASsistée des Procédu...   \n",
       "12078                    Plan local de l'urbanisme - PLU   \n",
       "12079                          La comptabilité nationale   \n",
       "12080                        Parc naturel régional - PNR   \n",
       "\n",
       "                                                   title size  \\\n",
       "0         Collecte de débit à partir d’une station hydro    1   \n",
       "1                                  erreur dans l'adresse    2   \n",
       "2                             Problème dans calendar.txt    2   \n",
       "3              Will the data be removed or stay forever?    1   \n",
       "4      open data sur les contrôles sanitaires \"piscin...    1   \n",
       "...                                                  ...  ...   \n",
       "12076                                  site inaccessible    1   \n",
       "12077  Le fichier est annoncé comme un CSV mais je n'...    1   \n",
       "12078  Le lien pour télécharger les données ne foncti...    1   \n",
       "12079  Erreur d'URL sur le document \"Principaux indic...    1   \n",
       "12080                    Attention, le lien semble rompu    2   \n",
       "\n",
       "                                                messages  \\\n",
       "0      Bonjour,\\nJe suis à la recherche d’un programm...   \n",
       "1      Bonjour,\\nSur la commune de Chevannes dans l'E...   \n",
       "2      Bonjour,\\r\\nLe fichier calendar.txt, qui est c...   \n",
       "3      If a establishment or legal unit is closed, wi...   \n",
       "4      Bonjour,\\nJe souhaiterai utiliser les données ...   \n",
       "...                                                  ...   \n",
       "12076                                  site inaccessible   \n",
       "12077  Le fichier est annoncé comme un CSV mais je n'...   \n",
       "12078  Le lien pour télécharger les données ne foncti...   \n",
       "12079  Erreur d'URL sur le document \"Principaux indic...   \n",
       "12080  Attention, le lien semble rompu\\nLe lien a été...   \n",
       "\n",
       "                          created                      closed     closed_by  \n",
       "0      2023-05-14T17:11:27.131000                         NaN           NaN  \n",
       "1      2023-05-13T14:49:17.097000                         NaN           NaN  \n",
       "2      2023-05-12T22:40:08.241000                         NaN           NaN  \n",
       "3      2023-05-12T20:05:20.702000                         NaN           NaN  \n",
       "4      2023-05-12T14:26:04.215000                         NaN           NaN  \n",
       "...                           ...                         ...           ...  \n",
       "12076  2013-12-19T10:37:45.197000                         NaN           NaN  \n",
       "12077  2013-12-18T22:40:12.111000                         NaN           NaN  \n",
       "12078  2013-12-18T22:26:47.529000                         NaN           NaN  \n",
       "12079  2013-12-18T18:17:31.356000                         NaN           NaN  \n",
       "12080  2013-12-18T18:01:00.524000  2014-07-02T12:48:44.742000  Romain Tales  \n",
       "\n",
       "[12081 rows x 9 columns]"
      ]
     },
     "execution_count": 25,
     "metadata": {},
     "output_type": "execute_result"
    }
   ],
   "source": [
    "df"
   ]
  },
  {
   "cell_type": "code",
   "execution_count": 3,
   "id": "d0d58cce",
   "metadata": {},
   "outputs": [
    {
     "ename": "SyntaxError",
     "evalue": "invalid syntax (2390534649.py, line 1)",
     "output_type": "error",
     "traceback": [
      "\u001b[0;36m  File \u001b[0;32m\"/var/folders/cg/b2_z5vjn52x7nyrtvtmwqsqh0000gp/T/ipykernel_31358/2390534649.py\"\u001b[0;36m, line \u001b[0;32m1\u001b[0m\n\u001b[0;31m    import request<<\u001b[0m\n\u001b[0m                  ^\u001b[0m\n\u001b[0;31mSyntaxError\u001b[0m\u001b[0;31m:\u001b[0m invalid syntax\n"
     ]
    }
   ],
   "source": [
    "import request<<\n",
    "s"
   ]
  },
  {
   "cell_type": "code",
   "execution_count": 4,
   "id": "dbdc7bde",
   "metadata": {},
   "outputs": [],
   "source": [
    "from datetime import datetime\n",
    "date_format = \"%Y-%m-%dT%H:%M:%S\" \n",
    "toto = datetime.strptime(\"2023-03-22T18:43:46.843000+00:00\"[:19], date_format) - datetime.strptime(\"2023-03-21T09:13:12.843000+00:00\"[:19], date_format)\n"
   ]
  },
  {
   "cell_type": "code",
   "execution_count": 5,
   "id": "0cbabbfe",
   "metadata": {},
   "outputs": [
    {
     "data": {
      "text/plain": [
       "1.396226851851852"
      ]
     },
     "execution_count": 5,
     "metadata": {},
     "output_type": "execute_result"
    }
   ],
   "source": [
    "toto.days + (toto.seconds/(3600*24))"
   ]
  },
  {
   "cell_type": "code",
   "execution_count": 6,
   "id": "15b3dda0",
   "metadata": {},
   "outputs": [
    {
     "data": {
      "text/plain": [
       "0.39622685185185186"
      ]
     },
     "execution_count": 6,
     "metadata": {},
     "output_type": "execute_result"
    }
   ],
   "source": [
    "34234/(3600*24)"
   ]
  },
  {
   "cell_type": "code",
   "execution_count": 7,
   "id": "dc1f8227",
   "metadata": {},
   "outputs": [],
   "source": [
    "from datetime import date\n",
    "from dateutil.relativedelta import relativedelta\n",
    "\n",
    "oneyearago = date.today() - relativedelta(years=1)\n",
    "oneyearago = oneyearago.strftime(\"%Y-%m-%d\")"
   ]
  },
  {
   "cell_type": "code",
   "execution_count": 8,
   "id": "3033a8b7",
   "metadata": {},
   "outputs": [
    {
     "name": "stdout",
     "output_type": "stream",
     "text": [
      "1 2023-09-11\n",
      "2 2023-08-23T14:01:38.600000+00:00\n",
      "3 2023-07-27T12:35:35.380000+00:00\n",
      "4 2023-06-30T09:34:23.993000+00:00\n",
      "5 2023-06-07T12:52:01.118000+00:00\n",
      "6 2023-05-11T14:00:57.405000+00:00\n",
      "7 2023-04-13T16:59:27.536000+00:00\n",
      "8 2023-03-16T16:28:13.299000+00:00\n",
      "9 2023-02-14T21:25:29.180000+00:00\n",
      "10 2023-01-24T21:34:01.058000+00:00\n",
      "11 2023-01-03T14:08:13.388000+00:00\n",
      "12 2022-12-11T12:28:54.479000+00:00\n",
      "13 2022-11-22T07:41:31.581000+00:00\n",
      "14 2022-10-27T14:33:28.047000+00:00\n",
      "15 2022-10-06T15:03:08.793000+00:00\n",
      "16 2022-09-13T14:12:15.343000+00:00\n"
     ]
    }
   ],
   "source": [
    "page = 1\n",
    "nb_discussions = 0\n",
    "nb_discussions_with_answer = 0\n",
    "time_to_answer = []\n",
    "actual_date = date.today().strftime(\"%Y-%m-%d\")\n",
    "while actual_date > oneyearago:\n",
    "    print(page, actual_date)\n",
    "    r = requests.get(\"https://www.data.gouv.fr/api/1/discussions/?page_size=100&page=\"+str(page))\n",
    "    data = r.json()\n",
    "    for item in data[\"data\"]:\n",
    "        actual_date = item[\"discussion\"][0][\"posted_on\"]\n",
    "        nb_discussions += 1\n",
    "        if len(item[\"discussion\"]) > 1:\n",
    "            nb_discussions_with_answer += 1\n",
    "            date_format = \"%Y-%m-%dT%H:%M:%S\" \n",
    "            first_date = datetime.strptime(item[\"discussion\"][0][\"posted_on\"][:19], date_format)\n",
    "            second_date = datetime.strptime(item[\"discussion\"][1][\"posted_on\"][:19], date_format)\n",
    "            ecart = second_date - first_date\n",
    "            ecart_jour = ecart.days + (ecart.seconds/(3600*24))\n",
    "            if ecart_jour > 30:\n",
    "                time_to_answer.append(30)\n",
    "            else:\n",
    "                time_to_answer.append(ecart_jour)\n",
    "        else:\n",
    "            time_to_answer.append(30)\n",
    "    page = page + 1"
   ]
  },
  {
   "cell_type": "code",
   "execution_count": 9,
   "id": "b00cb103",
   "metadata": {},
   "outputs": [
    {
     "data": {
      "text/plain": [
       "1600"
      ]
     },
     "execution_count": 9,
     "metadata": {},
     "output_type": "execute_result"
    }
   ],
   "source": [
    "nb_discussions"
   ]
  },
  {
   "cell_type": "code",
   "execution_count": 10,
   "id": "ece12aec",
   "metadata": {},
   "outputs": [
    {
     "data": {
      "text/plain": [
       "1072"
      ]
     },
     "execution_count": 10,
     "metadata": {},
     "output_type": "execute_result"
    }
   ],
   "source": [
    "nb_discussions_with_answer"
   ]
  },
  {
   "cell_type": "code",
   "execution_count": 65,
   "id": "746653b9",
   "metadata": {},
   "outputs": [
    {
     "data": {
      "text/plain": [
       "1600"
      ]
     },
     "execution_count": 65,
     "metadata": {},
     "output_type": "execute_result"
    }
   ],
   "source": [
    "len(time_to_answer)"
   ]
  },
  {
   "cell_type": "code",
   "execution_count": 68,
   "id": "8aca3a45",
   "metadata": {},
   "outputs": [],
   "source": [
    "import numpy as np"
   ]
  },
  {
   "cell_type": "code",
   "execution_count": 69,
   "id": "f4fa2fcb",
   "metadata": {},
   "outputs": [],
   "source": [
    "arr = np.array(time_to_answer)"
   ]
  },
  {
   "cell_type": "code",
   "execution_count": 70,
   "id": "9123b3f4",
   "metadata": {},
   "outputs": [
    {
     "data": {
      "text/plain": [
       "14.307382349537038"
      ]
     },
     "execution_count": 70,
     "metadata": {},
     "output_type": "execute_result"
    }
   ],
   "source": [
    "arr.mean()"
   ]
  },
  {
   "cell_type": "code",
   "execution_count": 72,
   "id": "dcad90cf",
   "metadata": {},
   "outputs": [],
   "source": [
    "arr2 = []\n",
    "for item in time_to_answer:\n",
    "    if item != 30:\n",
    "        arr2.append(item)"
   ]
  },
  {
   "cell_type": "code",
   "execution_count": 73,
   "id": "ec02343a",
   "metadata": {},
   "outputs": [],
   "source": [
    "arr = np.array(arr2)"
   ]
  },
  {
   "cell_type": "code",
   "execution_count": 74,
   "id": "bfb4866a",
   "metadata": {},
   "outputs": [
    {
     "data": {
      "text/plain": [
       "4.379399754346182"
      ]
     },
     "execution_count": 74,
     "metadata": {},
     "output_type": "execute_result"
    }
   ],
   "source": [
    "arr.mean()"
   ]
  },
  {
   "cell_type": "code",
   "execution_count": null,
   "id": "6c37e3d0",
   "metadata": {},
   "outputs": [],
   "source": []
  }
 ],
 "metadata": {
  "kernelspec": {
   "display_name": "Python 3 (ipykernel)",
   "language": "python",
   "name": "python3"
  },
  "language_info": {
   "codemirror_mode": {
    "name": "ipython",
    "version": 3
   },
   "file_extension": ".py",
   "mimetype": "text/x-python",
   "name": "python",
   "nbconvert_exporter": "python",
   "pygments_lexer": "ipython3",
   "version": "3.8.12"
  }
 },
 "nbformat": 4,
 "nbformat_minor": 5
}
