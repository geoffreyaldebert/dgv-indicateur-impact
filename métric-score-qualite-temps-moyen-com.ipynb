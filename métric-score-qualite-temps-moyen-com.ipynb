{
 "cells": [
  {
   "cell_type": "markdown",
   "id": "cdc7d7b2",
   "metadata": {},
   "source": [
    "4 indicateurs d'impact data.gouv.fr\n",
    "- taux de réponse \"oui\" à la question \"Avez-vous trouvé ce que vous cherchiez ?\" (non encore calculé)\n",
    "- Score qualité moyen du top 1000 jeux de données (calculé dans ce notebook)\n",
    "- Temps moyen de réponse à un commentaire usager (calculé dans ce notebook)\n",
    "- Nombre de réutilisations de qualité sur le TOP 100 des jeux de données (calculé manuellement par l'équipe)"
   ]
  },
  {
   "cell_type": "markdown",
   "id": "c0e57fc4",
   "metadata": {},
   "source": [
    "# Score qualité moyen du top 1000 jeux de données"
   ]
  },
  {
   "cell_type": "markdown",
   "id": "10a11c1d",
   "metadata": {},
   "source": [
    "Méthodologie :\n",
    "- on récupère le catalogue des jeux de données data.gouv.fr, on le trie par metric.views (correspondant aux métriques matomo, à changer peut-être lors de la mise en prod de l'api metrics). On garde les 1000 premiers et on calcule le score qualité moyen."
   ]
  },
  {
   "cell_type": "code",
   "execution_count": 2,
   "id": "13711c9c",
   "metadata": {},
   "outputs": [],
   "source": [
    "import pandas as pd"
   ]
  },
  {
   "cell_type": "code",
   "execution_count": 4,
   "id": "500db2e6",
   "metadata": {},
   "outputs": [],
   "source": [
    "df_datasets = pd.read_csv(\"https://www.data.gouv.fr/fr/datasets/r/f868cca6-8da1-4369-a78d-47463f19a9a3\", dtype=str, sep=\";\")"
   ]
  },
  {
   "cell_type": "code",
   "execution_count": 5,
   "id": "ae8d7f3f",
   "metadata": {},
   "outputs": [],
   "source": [
    "df_datasets[\"metric.views\"] = df_datasets[\"metric.views\"].astype(float)"
   ]
  },
  {
   "cell_type": "code",
   "execution_count": 6,
   "id": "404453f6",
   "metadata": {},
   "outputs": [],
   "source": [
    "df_datasets = df_datasets.sort_values(by=\"metric.views\", ascending=False)"
   ]
  },
  {
   "cell_type": "code",
   "execution_count": 7,
   "id": "3a9aa1af",
   "metadata": {},
   "outputs": [],
   "source": [
    "final = df_datasets[:1000]"
   ]
  },
  {
   "cell_type": "code",
   "execution_count": 8,
   "id": "6ae6f848",
   "metadata": {},
   "outputs": [
    {
     "name": "stderr",
     "output_type": "stream",
     "text": [
      "/var/folders/cg/b2_z5vjn52x7nyrtvtmwqsqh0000gp/T/ipykernel_36154/788487950.py:1: SettingWithCopyWarning: \n",
      "A value is trying to be set on a copy of a slice from a DataFrame.\n",
      "Try using .loc[row_indexer,col_indexer] = value instead\n",
      "\n",
      "See the caveats in the documentation: https://pandas.pydata.org/pandas-docs/stable/user_guide/indexing.html#returning-a-view-versus-a-copy\n",
      "  final[\"quality_score\"] = final[\"quality_score\"].astype(float)\n"
     ]
    }
   ],
   "source": [
    "final[\"quality_score\"] = final[\"quality_score\"].astype(float)"
   ]
  },
  {
   "cell_type": "code",
   "execution_count": 11,
   "id": "aebe4143",
   "metadata": {},
   "outputs": [
    {
     "data": {
      "text/plain": [
       "70.0"
      ]
     },
     "execution_count": 11,
     "metadata": {},
     "output_type": "execute_result"
    }
   ],
   "source": [
    "round(100 * final[\"quality_score\"].mean(), 2)"
   ]
  },
  {
   "cell_type": "markdown",
   "id": "01bee2a5",
   "metadata": {},
   "source": [
    "# Temps moyen de réponse à un commentaire usager "
   ]
  },
  {
   "cell_type": "markdown",
   "id": "84306aa1",
   "metadata": {},
   "source": [
    "Méthodologie : \n",
    "- On récupère les discussions relatives à un dataset sur la dernière année, on regarde si il y a eu une réponse, s'il n'y en a pas eu, on applique un score de 30 jours par défaut. Si il y a eu une réponse, on regarde le temps de réponse, si plus de 30 jours, on garde 30 jours, si moins, on prend le temps effectif. On fait ensuite la moyenne de tout ces temps."
   ]
  },
  {
   "cell_type": "code",
   "execution_count": 15,
   "id": "dc1f8227",
   "metadata": {},
   "outputs": [],
   "source": [
    "from datetime import date, datetime\n",
    "from dateutil.relativedelta import relativedelta\n",
    "import requests\n",
    "\n",
    "oneyearago = date.today() - relativedelta(years=1)\n",
    "oneyearago = oneyearago.strftime(\"%Y-%m-%d\")"
   ]
  },
  {
   "cell_type": "code",
   "execution_count": 33,
   "id": "3033a8b7",
   "metadata": {},
   "outputs": [
    {
     "name": "stdout",
     "output_type": "stream",
     "text": [
      "1 2023-09-11\n",
      "2 2023-08-23T14:01:38.600000+00:00\n",
      "3 2023-07-27T12:35:35.380000+00:00\n",
      "4 2023-06-30T09:34:23.993000+00:00\n",
      "5 2023-06-07T12:52:01.118000+00:00\n",
      "6 2023-05-11T14:00:57.405000+00:00\n",
      "7 2023-04-13T16:59:27.536000+00:00\n",
      "8 2023-03-16T16:28:13.299000+00:00\n",
      "9 2023-02-14T21:25:29.180000+00:00\n",
      "10 2023-01-24T21:34:01.058000+00:00\n",
      "11 2023-01-03T14:08:13.388000+00:00\n",
      "12 2022-12-11T12:28:54.479000+00:00\n",
      "13 2022-11-22T07:41:31.581000+00:00\n",
      "14 2022-10-27T14:33:28.047000+00:00\n",
      "15 2022-10-06T15:03:08.793000+00:00\n",
      "16 2022-09-13T14:12:15.343000+00:00\n"
     ]
    }
   ],
   "source": [
    "page = 1\n",
    "nb_discussions = 0\n",
    "nb_discussions_with_answer = 0\n",
    "time_to_answer = []\n",
    "actual_date = date.today().strftime(\"%Y-%m-%d\")\n",
    "while actual_date > oneyearago:\n",
    "    print(page, actual_date)\n",
    "    r = requests.get(\"https://www.data.gouv.fr/api/1/discussions/?page_size=100&page=\"+str(page))\n",
    "    data = r.json()\n",
    "    for item in data[\"data\"]:\n",
    "        actual_date = item[\"discussion\"][0][\"posted_on\"]\n",
    "        if actual_date > oneyearago and item[\"subject\"][\"class\"] == \"Dataset\":\n",
    "            nb_discussions += 1\n",
    "            if len(item[\"discussion\"]) > 1:\n",
    "                nb_discussions_with_answer += 1\n",
    "                date_format = \"%Y-%m-%dT%H:%M:%S\" \n",
    "                first_date = datetime.strptime(item[\"discussion\"][0][\"posted_on\"][:19], date_format)\n",
    "                second_date = datetime.strptime(item[\"discussion\"][1][\"posted_on\"][:19], date_format)\n",
    "                ecart = second_date - first_date\n",
    "                ecart_jour = ecart.days + (ecart.seconds/(3600*24))\n",
    "                if ecart_jour > 30:\n",
    "                    time_to_answer.append(30)\n",
    "                else:\n",
    "                    time_to_answer.append(ecart_jour)\n",
    "            else:\n",
    "                time_to_answer.append(30)\n",
    "    page = page + 1"
   ]
  },
  {
   "cell_type": "code",
   "execution_count": 34,
   "id": "b00cb103",
   "metadata": {},
   "outputs": [
    {
     "data": {
      "text/plain": [
       "1455"
      ]
     },
     "execution_count": 34,
     "metadata": {},
     "output_type": "execute_result"
    }
   ],
   "source": [
    "nb_discussions"
   ]
  },
  {
   "cell_type": "code",
   "execution_count": 35,
   "id": "ece12aec",
   "metadata": {},
   "outputs": [
    {
     "data": {
      "text/plain": [
       "989"
      ]
     },
     "execution_count": 35,
     "metadata": {},
     "output_type": "execute_result"
    }
   ],
   "source": [
    "nb_discussions_with_answer"
   ]
  },
  {
   "cell_type": "code",
   "execution_count": 36,
   "id": "746653b9",
   "metadata": {},
   "outputs": [
    {
     "data": {
      "text/plain": [
       "1455"
      ]
     },
     "execution_count": 36,
     "metadata": {},
     "output_type": "execute_result"
    }
   ],
   "source": [
    "len(time_to_answer)"
   ]
  },
  {
   "cell_type": "code",
   "execution_count": 37,
   "id": "8aca3a45",
   "metadata": {},
   "outputs": [],
   "source": [
    "import numpy as np"
   ]
  },
  {
   "cell_type": "code",
   "execution_count": 38,
   "id": "f4fa2fcb",
   "metadata": {},
   "outputs": [],
   "source": [
    "arr = np.array(time_to_answer)"
   ]
  },
  {
   "cell_type": "markdown",
   "id": "9a8afa4c",
   "metadata": {},
   "source": [
    "Le nombre de jours qu'on garde : "
   ]
  },
  {
   "cell_type": "code",
   "execution_count": 40,
   "id": "9123b3f4",
   "metadata": {},
   "outputs": [
    {
     "data": {
      "text/plain": [
       "14.38"
      ]
     },
     "execution_count": 40,
     "metadata": {},
     "output_type": "execute_result"
    }
   ],
   "source": [
    "round(arr.mean(), 2)"
   ]
  },
  {
   "cell_type": "code",
   "execution_count": 41,
   "id": "dcad90cf",
   "metadata": {},
   "outputs": [],
   "source": [
    "time_to_answer_if_answer = [x for x in time_to_answer if x < 30]"
   ]
  },
  {
   "cell_type": "code",
   "execution_count": 42,
   "id": "ec02343a",
   "metadata": {},
   "outputs": [],
   "source": [
    "arr2 = np.array(time_to_answer_if_answer)"
   ]
  },
  {
   "cell_type": "markdown",
   "id": "2536d582",
   "metadata": {},
   "source": [
    "Si on ne prend pas en compte les commentaires non répondus ou au-delà de 30 jours"
   ]
  },
  {
   "cell_type": "code",
   "execution_count": 43,
   "id": "bfb4866a",
   "metadata": {},
   "outputs": [
    {
     "data": {
      "text/plain": [
       "4.660037380259301"
      ]
     },
     "execution_count": 43,
     "metadata": {},
     "output_type": "execute_result"
    }
   ],
   "source": [
    "arr2.mean()"
   ]
  },
  {
   "cell_type": "code",
   "execution_count": null,
   "id": "6c37e3d0",
   "metadata": {},
   "outputs": [],
   "source": []
  }
 ],
 "metadata": {
  "kernelspec": {
   "display_name": "Python 3 (ipykernel)",
   "language": "python",
   "name": "python3"
  },
  "language_info": {
   "codemirror_mode": {
    "name": "ipython",
    "version": 3
   },
   "file_extension": ".py",
   "mimetype": "text/x-python",
   "name": "python",
   "nbconvert_exporter": "python",
   "pygments_lexer": "ipython3",
   "version": "3.8.12"
  }
 },
 "nbformat": 4,
 "nbformat_minor": 5
}
